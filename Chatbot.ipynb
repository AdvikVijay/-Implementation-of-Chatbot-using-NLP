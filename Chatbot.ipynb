{
 "cells": [
  {
   "cell_type": "markdown",
   "id": "e2fd8a30",
   "metadata": {},
   "source": [
    "# Chatbot"
   ]
  },
  {
   "cell_type": "code",
   "execution_count": 10,
   "id": "d1f646be",
   "metadata": {},
   "outputs": [
    {
     "name": "stderr",
     "output_type": "stream",
     "text": [
      "[nltk_data] Downloading package punkt to /Users/advik/nltk_data...\n",
      "[nltk_data]   Package punkt is already up-to-date!\n"
     ]
    },
    {
     "data": {
      "text/plain": [
       "True"
      ]
     },
     "execution_count": 10,
     "metadata": {},
     "output_type": "execute_result"
    }
   ],
   "source": [
    "import os\n",
    "import nltk\n",
    "import ssl\n",
    "import streamlit as st\n",
    "import random\n",
    "from sklearn.feature_extraction.text import TfidfVectorizer\n",
    "from sklearn.linear_model import LogisticRegression\n",
    "\n",
    "\n",
    "ssl._create_default_https_context = ssl._create_unverified_context\n",
    "nltk.data.path.append(os.path.abspath(\"nltk_data\"))\n",
    "nltk.download('punkt')"
   ]
  },
  {
   "cell_type": "raw",
   "id": "2c1b4e81",
   "metadata": {},
   "source": [
    "Now let’s define some intents of the chatbot. You can add more intents to make the chatbot more helpful and more functional:"
   ]
  },
  {
   "cell_type": "code",
   "execution_count": 11,
   "id": "d007afc7",
   "metadata": {},
   "outputs": [],
   "source": [
    "intents = [\n",
    "    {\n",
    "        \"tag\": \"greeting\",\n",
    "        \"patterns\": [\"Hi\", \"Hello\", \"Hey\", \"How are you\", \"What's up\", \"Hi there\", \"Greetings\", \"Howdy\", \"Good to see you\"],\n",
    "        \"responses\": [\"Hi there! How can I assist you today?\", \"Hello! What brings you here?\", \"Hey! Need help with something?\"]\n",
    "    },\n",
    "    {\n",
    "        \"tag\": \"goodbye\",\n",
    "        \"patterns\": [\"Bye\", \"See you later\", \"Goodbye\", \"Take care\"],\n",
    "        \"responses\": [\"Goodbye\", \"See you later!\", \"Take care! Have a great day!\"]\n",
    "    },\n",
    "    {\n",
    "        \"tag\": \"thanks\",\n",
    "        \"patterns\": [\"Thank you\", \"Thanks\", \"Thanks a lot\", \"I appreciate it\", \"Much appreciated\", \"Cheers\", \"Thx\"],\n",
    "        \"responses\": [\"You're welcome!\", \"No problem at all!\", \"Glad I could help!\", \"Anytime!\"]\n",
    "    },\n",
    "    {\n",
    "        \"tag\": \"about\",\n",
    "        \"patterns\": [\"What can you do\", \"Who are you\", \"What are you\", \"What is your purpose\"],\n",
    "        \"responses\": [\"I am a chatbot created to assist you.\", \"My purpose is to provide helpful information and answer your questions.\", \"Think of me as your virtual assistant.\"]\n",
    "    },\n",
    "    {\n",
    "        \"tag\": \"help\",\n",
    "        \"patterns\": [\"Help\", \"I need help\", \"Can you help me\", \"What should I do\", \"I need assistance\"],\n",
    "        \"responses\": [\"Sure, what do you need help with?\", \"I'm here to help. Can you tell me more?\", \"How can I assist you today?\"]\n",
    "    },\n",
    "    {\n",
    "        \"tag\": \"age\",\n",
    "        \"patterns\": [\"How old are you\", \"What's your age\", \"When were you created\"],\n",
    "        \"responses\": [\"I don't have an age. I'm a chatbot.\", \"I was just born in the digital world.\", \"Age is just a concept for me.\"]\n",
    "    },\n",
    "    {\n",
    "        \"tag\": \"weather\",\n",
    "        \"patterns\": [\"What's the weather like\", \"How's the weather today\", \"Is it sunny outside\"],\n",
    "        \"responses\": [\"I'm sorry, I cannot provide real-time weather information.\", \"Check your local weather app or website for updates.\", \"I currently can't access live weather data.\"]\n",
    "    },\n",
    "    {\n",
    "        \"tag\": \"budget\",\n",
    "        \"patterns\": [\"How can I make a budget\", \"What's a good budgeting strategy\", \"How do I create a budget\"],\n",
    "        \"responses\": [\n",
    "            \"To create a budget, start by tracking your income and expenses.\",\n",
    "            \"A good strategy is the 50/30/20 rule: 50% for needs, 30% for wants, and 20% for savings or debt.\",\n",
    "            \"Start by setting financial goals, then allocate your income toward essentials, savings, and discretionary spending.\"\n",
    "        ]\n",
    "    },\n",
    "    {\n",
    "        \"tag\": \"credit_score\",\n",
    "        \"patterns\": [\"What is a credit score\", \"How do I check my credit score\", \"How can I improve my credit score\"],\n",
    "        \"responses\": [\n",
    "            \"A credit score is a number that represents your creditworthiness based on your credit history.\",\n",
    "            \"You can check your credit score on websites like Credit Karma or Credit Sesame.\",\n",
    "            \"To improve your credit score, pay bills on time, reduce debt, and avoid opening too many new accounts.\"\n",
    "        ]\n",
    "    },\n",
    "    {\n",
    "        \"tag\": \"jokes\",\n",
    "        \"patterns\": [\"Tell me a joke\", \"Make me laugh\", \"Got any jokes?\"],\n",
    "        \"responses\": [\n",
    "            \"Why don't scientists trust atoms? Because they make up everything!\",\n",
    "            \"Why did the scarecrow win an award? He was outstanding in his field!\",\n",
    "            \"I told my computer a joke, but it just crashed.\"\n",
    "        ]\n",
    "    },\n",
    "    {\n",
    "        \"tag\": \"small_talk\",\n",
    "        \"patterns\": [\"How are you?\", \"What's up?\", \"What's going on?\"],\n",
    "        \"responses\": [\"I'm just a bot, but I'm here to help!\", \"I'm doing great, thanks for asking! How can I assist you?\", \"All good here! Let me know what you need.\"]\n",
    "    },\n",
    "    {\n",
    "        \"tag\": \"time_date\",\n",
    "        \"patterns\": [\"What time is it?\", \"What's today's date?\", \"Tell me the time\"],\n",
    "        \"responses\": [\"I'm not sure of the current time, but you can check your device!\", \"Sorry, I can't tell the time. Try asking your clock or phone.\"]\n",
    "    },\n",
    "    {\n",
    "        \"tag\": \"fallback\",\n",
    "        \"patterns\": [],\n",
    "        \"responses\": [\"I'm sorry, I didn't understand that.\", \"Can you rephrase?\", \"I’m not sure how to help with that.\"]\n",
    "    }\n",
    "]"
   ]
  },
  {
   "cell_type": "raw",
   "id": "012bf411",
   "metadata": {},
   "source": [
    "Now let’s prepare the intents and train a Machine Learning model for the chatbot:"
   ]
  },
  {
   "cell_type": "code",
   "execution_count": 12,
   "id": "96d66800",
   "metadata": {},
   "outputs": [
    {
     "name": "stdout",
     "output_type": "stream",
     "text": [
      "Model training complete!\n"
     ]
    }
   ],
   "source": [
    "# Create the vectorizer and classifier\n",
    "vectorizer = TfidfVectorizer()  # Convert text into numerical TF-IDF features\n",
    "clf = LogisticRegression(random_state=0, max_iter=10000)  # Classifier with high max_iter to ensure convergence\n",
    "\n",
    "# Preprocess the data: Extract patterns and tags from intents\n",
    "tags = []        # Stores intent tags\n",
    "patterns = []    # Stores user input patterns\n",
    "\n",
    "for intent in intents:\n",
    "    patterns.extend(intent['patterns'])  # Add all patterns for the current intent\n",
    "    tags.extend([intent['tag']] * len(intent['patterns']))  # Add corresponding tags (repeated)\n",
    "\n",
    "# Train the model\n",
    "x = vectorizer.fit_transform(patterns)  # Transform patterns into TF-IDF feature vectors\n",
    "y = tags                                # Target labels (intent tags)\n",
    "clf.fit(x, y)                           # Train the Logistic Regression classifier\n",
    "\n",
    "print(\"Model training complete!\")"
   ]
  },
  {
   "cell_type": "raw",
   "id": "0639b5f7",
   "metadata": {},
   "source": [
    "Now let’s write a Python function to chat with the chatbot:"
   ]
  },
  {
   "cell_type": "code",
   "execution_count": 13,
   "id": "563685b4",
   "metadata": {},
   "outputs": [],
   "source": [
    "def chatbot(input_text):\n",
    "    # Normalize input text: convert to lowercase and strip extra spaces\n",
    "    input_text = input_text.lower().strip()\n",
    "    \n",
    "    # Transform the input into the feature vector\n",
    "    input_vector = vectorizer.transform([input_text])\n",
    "    \n",
    "    # Predict the intent tag\n",
    "    tag = clf.predict(input_vector)[0]\n",
    "    \n",
    "    # Check if the predicted tag exists in the intents list\n",
    "    for intent in intents:\n",
    "        if intent['tag'] == tag:\n",
    "            # Select a random response from the matched intent\n",
    "            response = random.choice(intent['responses'])\n",
    "            return response\n",
    "    \n",
    "    # Default response if no intent is found\n",
    "    return \"I'm sorry, I didn't understand that. Can you please rephrase?\""
   ]
  },
  {
   "cell_type": "raw",
   "id": "471bc8e5",
   "metadata": {},
   "source": [
    "Till now, we have created the chatbot. After running the code, you can interact with the chatbot in the terminal itself. To turn this chatbot into an end-to-end chatbot, we need to deploy it to interact with the chatbot using a user interface. To deploy the chatbot, I will use the streamlit library in Python, which provides amazing features to create a user interface for a Machine Learning application in just a few lines of code."
   ]
  },
  {
   "cell_type": "raw",
   "id": "196a1376",
   "metadata": {},
   "source": [
    "So, here’s how we can deploy the chatbot using Python:"
   ]
  },
  {
   "cell_type": "code",
   "execution_count": 14,
   "id": "1b0080bf",
   "metadata": {},
   "outputs": [],
   "source": [
    "# Assuming chatbot function and other necessary components (like vectorizer, clf, etc.) are defined\n",
    "\n",
    "# Initialize session state for conversation history if it doesn't exist\n",
    "if 'conversation' not in st.session_state:\n",
    "    st.session_state['conversation'] = []\n",
    "\n",
    "def main():\n",
    "    # Streamlit app title and description\n",
    "    st.title(\"Chatbot\")\n",
    "    st.write(\"Welcome to the chatbot. Please type a message and press Enter to start the conversation.\")\n",
    "\n",
    "    # Text input for user message\n",
    "    user_input = st.text_input(\"You:\", key=\"user_input\")\n",
    "\n",
    "    if user_input:\n",
    "        # Get the chatbot response for the user input\n",
    "        response = chatbot(user_input)\n",
    "        \n",
    "        # Update the conversation history\n",
    "        st.session_state['conversation'].append(f\"You: {user_input}\")\n",
    "        st.session_state['conversation'].append(f\"Bot: {response}\")\n",
    "        \n",
    "        # Display the conversation history in a scrollable area\n",
    "        conversation_history = \"\\n\".join(st.session_state['conversation'])\n",
    "        st.text_area(\"Conversation History\", value=conversation_history, height=300, max_chars=None, key=\"conversation_history\", disabled=True)\n",
    "\n",
    "        # Stop if the user says goodbye\n",
    "        if response.lower() in ['goodbye', 'bye']:\n",
    "            st.session_state['conversation'].append(\"Bot: Thank you for chatting with me. Have a great day!\")\n",
    "            st.text_area(\"Conversation History\", value=\"\\n\".join(st.session_state['conversation']), height=300, max_chars=None, key=\"final_conversation\", disabled=True)\n",
    "            st.stop()\n",
    "\n",
    "if __name__ == '__main__':\n",
    "    main()"
   ]
  },
  {
   "cell_type": "code",
   "execution_count": null,
   "id": "7124a3ce",
   "metadata": {},
   "outputs": [],
   "source": []
  }
 ],
 "metadata": {
  "kernelspec": {
   "display_name": "Python 3 (ipykernel)",
   "language": "python",
   "name": "python3"
  },
  "language_info": {
   "codemirror_mode": {
    "name": "ipython",
    "version": 3
   },
   "file_extension": ".py",
   "mimetype": "text/x-python",
   "name": "python",
   "nbconvert_exporter": "python",
   "pygments_lexer": "ipython3",
   "version": "3.10.7"
  }
 },
 "nbformat": 4,
 "nbformat_minor": 5
}
